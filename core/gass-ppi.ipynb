{
 "cells": [
  {
   "cell_type": "markdown",
   "metadata": {},
   "source": [
    "# GASS-PPI"
   ]
  },
  {
   "cell_type": "markdown",
   "metadata": {},
   "source": [
    "## Section 0: Libraries, Global Variables, Utility Functions"
   ]
  },
  {
   "cell_type": "code",
   "execution_count": 35,
   "metadata": {},
   "outputs": [],
   "source": [
    "import subprocess\n",
    "import re\n",
    "import numpy as np\n",
    "from Bio.PDB import *\n",
    "\n",
    "current_directory = \"/Users/albertdarmawan/Documents/gass-ppi/core/\"\n",
    "pdb_parser = PDBParser()"
   ]
  },
  {
   "cell_type": "code",
   "execution_count": 36,
   "metadata": {},
   "outputs": [],
   "source": [
    "# Residue is represented as a Last Heavy Atom (LHA)\n",
    "# Residue is a \"gene\" in genetic algorithms\n",
    "# Individual is a list of residue\n",
    "# 2 residue info, 1 chain info, 2 atom (lha) info\n",
    "class Residue:\n",
    "    def __init__(self, residue_name, residue_sequence_position, chain_name, lha_name, lha_coordinates):\n",
    "        self.residue_name = residue_name\n",
    "        self.residue_sequence_position = residue_sequence_position\n",
    "        self.chain_name = chain_name\n",
    "        self.lha_name = lha_name\n",
    "        self.lha_coordinates = lha_coordinates"
   ]
  },
  {
   "cell_type": "code",
   "execution_count": 37,
   "metadata": {},
   "outputs": [],
   "source": [
    "# Euclidean Distance\n",
    "# Given two 3D coordinates (1D NumPy), calculate its Euclidean distance\n",
    "def euclidean_distance(coordinate_1, coordinate_2):\n",
    "    return float(np.sqrt(((coordinate_1[0] - coordinate_2[0]) ** 2) +\n",
    "                   ((coordinate_1[1] - coordinate_2[1]) ** 2) +\n",
    "                   ((coordinate_1[2] - coordinate_2[2]) ** 2)))"
   ]
  },
  {
   "cell_type": "code",
   "execution_count": 38,
   "metadata": {},
   "outputs": [],
   "source": [
    "# Using Sandro's script, generate a new PDB file with only its LHA\n",
    "def generate_lha_file(pdb_id):\n",
    "    pdb_file_name = pdb_id + \".pdb\"\n",
    "    new_thread = subprocess.run([\"python\", \"pdb-preprocessing.py\", current_directory, pdb_file_name], capture_output=True, text=True)\n",
    "    print(new_thread.stdout)"
   ]
  },
  {
   "cell_type": "code",
   "execution_count": 39,
   "metadata": {},
   "outputs": [
    {
     "name": "stdout",
     "output_type": "stream",
     "text": [
      "0.94456\n"
     ]
    }
   ],
   "source": [
    "# TMAlign Structural Alignment (https://zhanggroup.org/TM-score/)\n",
    "# Compare structural similarities between two PDB structures (regardless of the rotation)\n",
    "# Return a TMscore in float\n",
    "# TM-Score is between (0, 1], 1 indicates a perfect match. >0.5 is similar enough. <0.17 is two unrelated structures.\n",
    "def tmalign_structural_alignment(pdb_id_1, pdb_id_2):\n",
    "    pdb_id_1_filename = pdb_id_1.lower() + \".pdb\"\n",
    "    pdb_id_2_filename = pdb_id_2.lower() + \".pdb\"\n",
    "    # Execute TMAlign\n",
    "    tmalign_thread = subprocess.run([\"./TMalign\", pdb_id_1_filename, pdb_id_2_filename], capture_output=True, text=True)\n",
    "    output_text = tmalign_thread.stdout\n",
    "\n",
    "    # Retrieved TMScore from TMAlign results\n",
    "    tmscore_raw_list = re.findall(\"TM-score=\\s[0-9]+.[0-9]+\", output_text)\n",
    "\n",
    "    # Convert the TMScore into floats, then get the maximum TMScore\n",
    "    tmscore_list = list(map(lambda x: float(re.sub(\"TM-score=\\s\", \"\", x)), tmscore_raw_list))\n",
    "    max_tmscore = max(tmscore_list)\n",
    "    return max_tmscore\n",
    "\n",
    "tmscore = tmalign_structural_alignment(\"1pme\", \"4n4s\")\n",
    "print(tmscore)"
   ]
  },
  {
   "cell_type": "code",
   "execution_count": null,
   "metadata": {},
   "outputs": [],
   "source": []
  },
  {
   "cell_type": "markdown",
   "metadata": {},
   "source": [
    "## Section 1: Proof-of-Concept (with Antigen-Antibody in DBD5)"
   ]
  },
  {
   "cell_type": "code",
   "execution_count": 22,
   "metadata": {},
   "outputs": [],
   "source": [
    "# Main Program\n",
    "input_pdb_id = \"3nos\"\n",
    "\n",
    "# Step 1: Find structural similarities with other protein\n",
    "\n",
    "# Step 2: \n",
    "\n",
    "# Step 3: "
   ]
  },
  {
   "cell_type": "code",
   "execution_count": null,
   "metadata": {},
   "outputs": [],
   "source": []
  }
 ],
 "metadata": {
  "kernelspec": {
   "display_name": "Python 3",
   "language": "python",
   "name": "python3"
  },
  "language_info": {
   "codemirror_mode": {
    "name": "ipython",
    "version": 3
   },
   "file_extension": ".py",
   "mimetype": "text/x-python",
   "name": "python",
   "nbconvert_exporter": "python",
   "pygments_lexer": "ipython3",
   "version": "3.8.11"
  }
 },
 "nbformat": 4,
 "nbformat_minor": 4
}
