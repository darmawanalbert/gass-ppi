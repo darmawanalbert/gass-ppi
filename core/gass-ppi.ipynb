{
 "cells": [
  {
   "cell_type": "markdown",
   "metadata": {},
   "source": [
    "# GASS-PPI"
   ]
  },
  {
   "cell_type": "markdown",
   "metadata": {},
   "source": [
    "## Section 0: Libraries, Global Variables, Utility Functions"
   ]
  },
  {
   "cell_type": "code",
   "execution_count": 68,
   "metadata": {},
   "outputs": [],
   "source": [
    "import subprocess\n",
    "import re\n",
    "import numpy as np\n",
    "from Bio.PDB import *\n",
    "\n",
    "repository = \"/Users/albertdarmawan/Documents/gass-ppi/\"\n",
    "current_directory = repository + \"core/\"\n",
    "dataset_directory = repository + \"dataset/benchmark5/structures/\"\n",
    "pdb_parser = PDBParser()\n",
    "\n",
    "# List of PDB ID of protein complexes\n",
    "# aa stands for Antibody-Antigen (in this case, Antibody is the receptor and Antigen is the ligand)\n",
    "dbd5_aa_list = [\"1AHW\", \"1BVK\", \"1DQJ\", \"1E6J\", \"1JPS\", \"1MLC\", \"1VFB\", \"1WEJ\",\n",
    "                              \"2FD6\", \"2I25\", \"2VIS\", \"2VXT\", \"2W9E\", \"3EOA\", \"3HMX\", \"3MXW\",\n",
    "                              \"3RVW\", \"4DN4\", \"4FQI\", \"4G6J\", \"4G6M\", \"4GXU\", \"3EO1\", \"3G6D\",\n",
    "                              \"3HI6\", \"3L5W\", \"3V6Z\", \"1BGX\"]\n",
    "\n",
    "dbd5_aa_r_list = list(map(lambda x: x + \"_r_u\", dbd5_aa_list))\n",
    "dbd5_aa_l_list = list(map(lambda x: x + \"_l_u\", dbd5_aa_list))\n",
    "# example = pdb_parser.get_structure(\"1AHW_L\", dataset_directory + \"1AHW_l_u.pdb\")"
   ]
  },
  {
   "cell_type": "code",
   "execution_count": 58,
   "metadata": {},
   "outputs": [],
   "source": [
    "# Residue is represented as a Last Heavy Atom (LHA)\n",
    "# Residue is a \"gene\" in genetic algorithms\n",
    "# Individual is a list of residue\n",
    "# 2 residue info, 1 chain info, 2 atom (lha) info\n",
    "class Residue:\n",
    "    def __init__(self, residue_name, residue_sequence_position, chain_name, lha_name, lha_coordinates):\n",
    "        self.residue_name = residue_name\n",
    "        self.residue_sequence_position = residue_sequence_position\n",
    "        self.chain_name = chain_name\n",
    "        self.lha_name = lha_name\n",
    "        self.lha_coordinates = lha_coordinates"
   ]
  },
  {
   "cell_type": "code",
   "execution_count": 59,
   "metadata": {},
   "outputs": [],
   "source": [
    "# Euclidean Distance\n",
    "# Given two 3D coordinates (1D NumPy), calculate its Euclidean distance\n",
    "def euclidean_distance(coordinate_1, coordinate_2):\n",
    "    return float(np.sqrt(((coordinate_1[0] - coordinate_2[0]) ** 2) +\n",
    "                   ((coordinate_1[1] - coordinate_2[1]) ** 2) +\n",
    "                   ((coordinate_1[2] - coordinate_2[2]) ** 2)))"
   ]
  },
  {
   "cell_type": "code",
   "execution_count": 66,
   "metadata": {},
   "outputs": [],
   "source": [
    "# Using Sandro's script, generate a new PDB file with only its LHA\n",
    "def generate_lha_file(pdb_id):\n",
    "    pdb_file_name = pdb_id + \".pdb\"\n",
    "    new_thread = subprocess.run([\"python\", \"pdb-preprocessing.py\", dataset_directory, pdb_file_name], capture_output=True, text=True)\n",
    "    \n",
    "generate_lha_file(\"1AHW_l_u\")"
   ]
  },
  {
   "cell_type": "code",
   "execution_count": 47,
   "metadata": {},
   "outputs": [
    {
     "name": "stdout",
     "output_type": "stream",
     "text": [
      "0.23652\n"
     ]
    }
   ],
   "source": [
    "# TMAlign Structural Alignment (https://zhanggroup.org/TM-score/)\n",
    "# Compare structural similarities between two PDB structures (regardless of the rotation)\n",
    "# Return a TMscore in float\n",
    "# TM-Score is between (0, 1], 1 indicates a perfect match. >0.5 is similar enough. <0.17 is two unrelated structures.\n",
    "def tmalign_structural_alignment(pdb_id_1, pdb_id_2):\n",
    "    pdb_id_1_file_directory = dataset_directory + pdb_id_1.lower() + \".pdb\"\n",
    "    pdb_id_2_file_directory = dataset_directory + pdb_id_2.lower() + \".pdb\"\n",
    "    # Execute TMAlign\n",
    "    tmalign_thread = subprocess.run([\"./TMalign\", pdb_id_1_file_directory, pdb_id_2_file_directory], capture_output=True, text=True)\n",
    "    output_text = tmalign_thread.stdout\n",
    "\n",
    "    # Retrieved TMScore from TMAlign results\n",
    "    tmscore_raw_list = re.findall(\"TM-score=\\s[0-9]+.[0-9]+\", output_text)\n",
    "\n",
    "    # Convert the TMScore into floats, then get the maximum TMScore\n",
    "    tmscore_list = list(map(lambda x: float(re.sub(\"TM-score=\\s\", \"\", x)), tmscore_raw_list))\n",
    "    max_tmscore = max(tmscore_list)\n",
    "    return max_tmscore\n",
    "\n",
    "tmscore = tmalign_structural_alignment(\"1AHW_l_u\", \"1BVK_l_u\")\n",
    "print(tmscore)"
   ]
  },
  {
   "cell_type": "code",
   "execution_count": null,
   "metadata": {},
   "outputs": [],
   "source": [
    "# Given one receptor and one ligand, infer its interfaces\n",
    "# The protein-protein interfaces is a list of Residue class\n",
    "def get_interface(pdb_id_1, pdb_id_2, threshold=6.0):\n",
    "    pdb_1_lha = pdb_parser.get_structure(pdb_id_1, dataset_directory + pdb_id_1 + \".pdb\")\n",
    "    pdb_2_lha = pdb_parser.get_structure(pdb_id_2, dataset_directory + pdb_id_2 + \".pdb\")\n",
    "    \n",
    "    \n",
    "protein_interfaces = get_interface(\"1AHW_l_u\", \"1AHW_r_u\")"
   ]
  },
  {
   "cell_type": "markdown",
   "metadata": {},
   "source": [
    "## Section 1: Proof-of-Concept"
   ]
  },
  {
   "cell_type": "code",
   "execution_count": 76,
   "metadata": {},
   "outputs": [
    {
     "name": "stdout",
     "output_type": "stream",
     "text": [
      "[0.96368, 0.71974, 0.89282, 0.96941, 0.86854, 0.96954, 0.66046, 0.85705, 0.76904, 0.79738, 0.66313, 0.45949, 0.71285, 0.96372, 0.97342, 0.96571, 0.95849, 0.70099, 0.66768, 0.49131, 0.79083, 0.68356, 0.60908, 0.64004, 0.953, 0.51087, 0.8124]\n",
      "3MXW_r_u\n"
     ]
    }
   ],
   "source": [
    "# Query Protein\n",
    "input_pdb_id = \"1AHW_r_u\"\n",
    "\n",
    "# Step 1: Find the structural neighbour of the query protein using TMAlign Structural Alignment\n",
    "\n",
    "# Remove the first element in this case, since it's the input_pdb_id\n",
    "dataset_list = dbd5_aa_r_list[1:]\n",
    "\n",
    "tmscore_list = list(map(lambda x: tmalign_structural_alignment(input_pdb_id, x), dataset_list))\n",
    "print(tmscore_list) \n",
    "maximum_index = np.argmax(tmscore_list)\n",
    "print(dataset_list[maximum_index])\n",
    "\n",
    "# Step 2: Find the interface of the structural neighbour, then use it as the template\n"
   ]
  },
  {
   "cell_type": "code",
   "execution_count": null,
   "metadata": {},
   "outputs": [],
   "source": []
  }
 ],
 "metadata": {
  "kernelspec": {
   "display_name": "Python 3",
   "language": "python",
   "name": "python3"
  },
  "language_info": {
   "codemirror_mode": {
    "name": "ipython",
    "version": 3
   },
   "file_extension": ".py",
   "mimetype": "text/x-python",
   "name": "python",
   "nbconvert_exporter": "python",
   "pygments_lexer": "ipython3",
   "version": "3.8.11"
  }
 },
 "nbformat": 4,
 "nbformat_minor": 4
}
