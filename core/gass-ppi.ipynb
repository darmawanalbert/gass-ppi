{
 "cells": [
  {
   "cell_type": "markdown",
   "metadata": {},
   "source": [
    "# GASS-PPI"
   ]
  },
  {
   "cell_type": "markdown",
   "metadata": {},
   "source": [
    "## Section 0: Libraries, Global Variables, Utility Functions"
   ]
  },
  {
   "cell_type": "code",
   "execution_count": 23,
   "metadata": {},
   "outputs": [],
   "source": [
    "import subprocess\n",
    "import re\n",
    "import numpy as np\n",
    "from Bio.PDB import *\n",
    "\n",
    "repository_path = \"/Users/albertdarmawan/Documents/gass-ppi/\"\n",
    "dbd5_path = repository_path + \"dataset/benchmark5/structures/\"\n",
    "pdb_parser = PDBParser()\n",
    "\n",
    "# List of PDB ID of protein complexes\n",
    "# aa stands for Antibody-Antigen (in this case, Antibody is the receptor and Antigen is the ligand)\n",
    "dbd5_aa_list = [\"1AHW\", \"1BVK\", \"1DQJ\", \"1E6J\", \"1JPS\", \"1MLC\", \"1VFB\", \"1WEJ\",\n",
    "                              \"2FD6\", \"2I25\", \"2VIS\", \"2VXT\", \"2W9E\", \"3EOA\", \"3HMX\", \"3MXW\",\n",
    "                              \"3RVW\", \"4DN4\", \"4FQI\", \"4G6J\", \"4G6M\", \"4GXU\", \"3EO1\", \"3G6D\",\n",
    "                              \"3HI6\", \"3L5W\", \"3V6Z\", \"1BGX\"]\n",
    "\n",
    "dbd5_aa_r_list = list(map(lambda x: x + \"_r_u\", dbd5_aa_list))\n",
    "dbd5_aa_l_list = list(map(lambda x: x + \"_l_u\", dbd5_aa_list))\n",
    "# example = pdb_parser.get_structure(\"1AHW_L\", dataset_directory + \"1AHW_l_u.pdb\")\n",
    "lha_dict = {\n",
    "    \"GLY\":\"CA\",\n",
    "    \"ALA\":\"CB\",\n",
    "    \"GLN\":\"CD\",\n",
    "    \"GLU\":\"CD\",\n",
    "    \"ILE\":\"CD1\",\n",
    "    \"LEU\":\"CD1\",\n",
    "    \"MET\":\"CE\",\n",
    "    \"HIS\":\"CE1\",\n",
    "    \"ASN\":\"CG\",\n",
    "    \"ASP\":\"CG\",\n",
    "    \"PRO\":\"CG\",\n",
    "    \"VAL\":\"CG1\",\n",
    "    \"THR\":\"CG2\",\n",
    "    \"TRP\":\"CH2\",\n",
    "    \"ARG\":\"CZ\",\n",
    "    \"PHE\":\"CZ\",\n",
    "    \"LYS\":\"NZ\",\n",
    "    \"SER\":\"OG\",\n",
    "    \"TYR\":\"OH\",\n",
    "    \"CYS\":\"SG\",\n",
    "}"
   ]
  },
  {
   "cell_type": "code",
   "execution_count": 24,
   "metadata": {},
   "outputs": [],
   "source": [
    "# In this case, a Residue is represented by a reference atom (LHA, CA, etc)\n",
    "# Residue is the \"gene\" in genetic algorithms.\n",
    "# Therefore, a list of Residue corresponds to an \"individual\"\n",
    "# A residue consists of 2 residue information, 1 chain information, and 2 reference atom information\n",
    "class Residue:\n",
    "    def __init__(self, residue_name, residue_sequence_position, chain_name, atom_name, atom_coordinates):\n",
    "        self.residue_name = residue_name\n",
    "        self.residue_sequence_position = residue_sequence_position\n",
    "        self.chain_name = chain_name\n",
    "        self.atom_name = atom_name\n",
    "        self.atom_coordinates = atom_coordinates"
   ]
  },
  {
   "cell_type": "code",
   "execution_count": 25,
   "metadata": {},
   "outputs": [],
   "source": [
    "def euclidean_distance(coordinate_1, coordinate_2):\n",
    "    \"\"\"Euclidean Distance\n",
    "    Given 3-dimensional coordinates of 2 atoms, calculate its Euclidean distance\n",
    "    \n",
    "    Parameters:\n",
    "    coordinate_1 (1D NumPy Array): x,y,z coordinates of the first atom\n",
    "    coordinate_2 (1D NumPy Array): x,y,z coordinates of the second atom\n",
    "    \n",
    "    Returns:\n",
    "    float: The euclidean distance\n",
    "    \n",
    "    \"\"\"\n",
    "    return float(np.sqrt(((coordinate_1[0] - coordinate_2[0]) ** 2) +\n",
    "                   ((coordinate_1[1] - coordinate_2[1]) ** 2) +\n",
    "                   ((coordinate_1[2] - coordinate_2[2]) ** 2)))"
   ]
  },
  {
   "cell_type": "code",
   "execution_count": 26,
   "metadata": {},
   "outputs": [
    {
     "name": "stdout",
     "output_type": "stream",
     "text": [
      "<class 'list'>\n",
      "202\n",
      "ASN\n",
      "5\n",
      "A\n",
      "CG\n",
      "[-34.951 -48.179  13.288]\n",
      "THR\n",
      "6\n",
      "A\n",
      "CG2\n",
      "[-30.526 -48.949  17.813]\n",
      "VAL\n",
      "7\n",
      "A\n",
      "CG1\n",
      "[-30.492 -41.64   18.021]\n",
      "ALA\n",
      "8\n",
      "A\n",
      "CB\n",
      "[-24.799 -41.51   17.044]\n",
      "ALA\n",
      "9\n",
      "A\n",
      "CB\n",
      "[-25.297 -39.985  22.243]\n"
     ]
    },
    {
     "name": "stderr",
     "output_type": "stream",
     "text": [
      "/opt/anaconda3/envs/thesis/lib/python3.8/site-packages/Bio/PDB/PDBParser.py:395: PDBConstructionWarning: Ignoring unrecognized record 'END' at line 1623\n",
      "  warnings.warn(\n"
     ]
    }
   ],
   "source": [
    "def load_pdb(pdb_id, pdb_directory_path, pdb_parser, lha_dict, reference_atom=\"lha\"):\n",
    "    \"\"\"Load PDB\n",
    "    Given a PDB ID, load the .pdb file and retrieve the list of residue\n",
    "    \n",
    "    Parameters:\n",
    "    pdb_id (str): The PDB ID for the protein structure\n",
    "    reference_atom (str): Reference atom used (\"lha\" or \"ac\")\n",
    "    \n",
    "    Returns:\n",
    "    list: List of Residue object which constitutes the protein structure\n",
    "    \n",
    "    \"\"\"\n",
    "    residue_list = []\n",
    "    amino_acid_list = list(lha_dict.keys())\n",
    "    pdb_file_path = pdb_directory_path + pdb_id + \".pdb\"\n",
    "    pdb_structure = pdb_parser.get_structure(pdb_id, pdb_file_path)\n",
    "    # Only take the ATOM keyword (exclude the HETATM, hetero atom that is not inside standard amino acids)\n",
    "    biopdb_residue_list = [residue for residue in pdb_structure.get_residues() if residue.get_resname() in amino_acid_list]\n",
    "    if reference_atom == \"lha\":\n",
    "        biopdb_atom_list = [atom for residue in biopdb_residue_list for atom in residue if atom.get_name() == lha_dict[residue.get_resname()]]\n",
    "    else:\n",
    "        biopdb_atom_list = [atom for residue in biopdb_residue_list for atom in residue if atom.get_name() == \"CA\"]\n",
    "        \n",
    "    for atom in biopdb_atom_list:\n",
    "        # Create a new Residue instance\n",
    "        current_residue_name = atom.get_parent().get_resname()\n",
    "        current_residue_sequence_position = atom.get_parent().get_full_id()[3][1]\n",
    "        current_chain_name = atom.get_parent().get_parent().id\n",
    "        current_atom_name = atom.get_name()\n",
    "        current_atom_coordinates = atom.get_coord()\n",
    "        current_atom = Residue(current_residue_name,\n",
    "                               current_residue_sequence_position,\n",
    "                               current_chain_name,\n",
    "                               current_atom_name,\n",
    "                               current_atom_coordinates)\n",
    "        residue_list.append(current_atom)\n",
    "    return residue_list\n",
    "\n",
    "residue_3nos = load_pdb(\"1AHW_l_u\", dbd5_path, pdb_parser, lha_dict, \"lha\")\n",
    "print(type(residue_3nos))\n",
    "print(len(residue_3nos))\n",
    "for item in residue_3nos[:5]:\n",
    "    print(item.residue_name)\n",
    "    print(item.residue_sequence_position)\n",
    "    print(item.chain_name)\n",
    "    print(item.atom_name)\n",
    "    print(item.atom_coordinates)"
   ]
  },
  {
   "cell_type": "code",
   "execution_count": 27,
   "metadata": {},
   "outputs": [
    {
     "name": "stdout",
     "output_type": "stream",
     "text": [
      "0.23652\n"
     ]
    }
   ],
   "source": [
    "def tmalign_structural_alignment(pdb_id_1, pdb_id_2, pdb_directory_path):\n",
    "    \"\"\"TMAlign Structural Alignment\n",
    "    Compare structural similarities between two PDB structures (regardless of the rotation)\n",
    "    https://zhanggroup.org/TM-score/\n",
    "    \n",
    "    Parameters:\n",
    "    pdb_id_1 (str): The PDB ID for the first protein structure\n",
    "    pdb_id_2 (str): The PDB ID for the second protein structure\n",
    "    \n",
    "    Returns:\n",
    "    float: The TMScore, a value between (0,1]. 1 indicates a perfect match. >0.5 is similar enough. <0.17 is two unrelated structures.\n",
    "    \n",
    "    \"\"\"\n",
    "    pdb_id_1_file_path = pdb_directory_path + pdb_id_1 + \".pdb\"\n",
    "    pdb_id_2_file_path = pdb_directory_path + pdb_id_2 + \".pdb\"\n",
    "    # Execute TMAlign\n",
    "    tmalign_thread = subprocess.run([\"./TMalign\", pdb_id_1_file_path, pdb_id_2_file_path], capture_output=True, text=True)\n",
    "    output_text = tmalign_thread.stdout\n",
    "\n",
    "    # Retrieved TMScore from TMAlign results\n",
    "    tmscore_raw_list = re.findall(\"TM-score=\\s[0-9]+.[0-9]+\", output_text)\n",
    "\n",
    "    # Convert the TMScore into floats, then get the maximum TMScore\n",
    "    tmscore_list = list(map(lambda x: float(re.sub(\"TM-score=\\s\", \"\", x)), tmscore_raw_list))\n",
    "    max_tmscore = max(tmscore_list)\n",
    "    return max_tmscore\n",
    "\n",
    "tmscore = tmalign_structural_alignment(\"1AHW_l_u\", \"1BVK_l_u\", dbd5_path)\n",
    "print(tmscore)"
   ]
  },
  {
   "cell_type": "code",
   "execution_count": 28,
   "metadata": {},
   "outputs": [
    {
     "name": "stderr",
     "output_type": "stream",
     "text": [
      "/opt/anaconda3/envs/thesis/lib/python3.8/site-packages/Bio/PDB/PDBParser.py:395: PDBConstructionWarning: Ignoring unrecognized record 'END' at line 1623\n",
      "  warnings.warn(\n",
      "/opt/anaconda3/envs/thesis/lib/python3.8/site-packages/Bio/PDB/PDBParser.py:395: PDBConstructionWarning: Ignoring unrecognized record 'END' at line 3305\n",
      "  warnings.warn(\n"
     ]
    },
    {
     "name": "stdout",
     "output_type": "stream",
     "text": [
      "[<__main__.Residue object at 0x7fe0cf4e5340>, <__main__.Residue object at 0x7fe0cf4e5d60>, <__main__.Residue object at 0x7fe0cf4e5dc0>, <__main__.Residue object at 0x7fe0cf4e5e80>, <__main__.Residue object at 0x7fe0cf4e5f40>, <__main__.Residue object at 0x7fe0cf4e8040>, <__main__.Residue object at 0x7fe0cf4e80a0>, <__main__.Residue object at 0x7fe0cf4e8400>, <__main__.Residue object at 0x7fe0cf4e8460>, <__main__.Residue object at 0x7fe0cf4e84c0>, <__main__.Residue object at 0x7fe0cf4e8520>, <__main__.Residue object at 0x7fe0cf4e8580>, <__main__.Residue object at 0x7fe0cf4e85e0>, <__main__.Residue object at 0x7fe0cf4e8640>, <__main__.Residue object at 0x7fe0cf4e8880>, <__main__.Residue object at 0x7fe0cf4e8d00>, <__main__.Residue object at 0x7fe0cf4e8dc0>, <__main__.Residue object at 0x7fe0cf4e8e80>, <__main__.Residue object at 0x7fe0cf4e8ee0>, <__main__.Residue object at 0x7fe0cf4e8fa0>, <__main__.Residue object at 0x7fe0cf5cd100>, <__main__.Residue object at 0x7fe0cf5cd160>, <__main__.Residue object at 0x7fe0cf5cd280>]\n",
      "<class 'list'>\n",
      "23\n",
      "LYS\n",
      "LYS\n",
      "ASP\n",
      "ILE\n",
      "THR\n",
      "TYR\n",
      "TYR\n",
      "LYS\n",
      "THR\n",
      "ALA\n",
      "LYS\n",
      "THR\n",
      "ASN\n",
      "THR\n",
      "ASP\n",
      "GLN\n",
      "VAL\n",
      "PRO\n",
      "SER\n",
      "THR\n",
      "ARG\n",
      "LYS\n",
      "ASP\n"
     ]
    }
   ],
   "source": [
    "# Given one receptor and one ligand, infer its interfaces\n",
    "# The protein-protein interfaces is a list of Residue class\n",
    "def get_actual_interface(residue_list_1, residue_list_2, threshold=6.0):\n",
    "    \"\"\"Get Protein Interface\n",
    "    Given one receptor structure and one ligand structure, infer its interfaces\n",
    "    \n",
    "    Parameters:\n",
    "    residue_list_1 (list): List of Residue object from the first protein structure\n",
    "    residue_list_2 (list): List of Residue object from the second protein structure\n",
    "    threshold: The acceptable distance between a receptor's atom and a ligand's atom\n",
    "    \n",
    "    Returns:\n",
    "    list: List of Residue object which constitutes the protein interface\n",
    "    \n",
    "    \"\"\"\n",
    "    interface_list = []\n",
    "    for residue_1 in residue_list_1:\n",
    "        for residue_2 in residue_list_2:\n",
    "            current_distance = euclidean_distance(residue_1.atom_coordinates, residue_2.atom_coordinates)\n",
    "            if current_distance < threshold:\n",
    "                interface_list.append(residue_1)\n",
    "                break\n",
    "\n",
    "    return interface_list\n",
    "\n",
    "ligand = load_pdb(\"1AHW_l_u\", dbd5_path, pdb_parser, lha_dict, \"lha\")\n",
    "receptor = load_pdb(\"1AHW_r_u\", dbd5_path, pdb_parser, lha_dict, \"lha\")\n",
    "sample_interface_list = get_actual_interface(ligand, receptor)\n",
    "print(sample_interface_list)\n",
    "print(type(sample_interface_list))\n",
    "print(len(sample_interface_list))\n",
    "for item in sample_interface_list:\n",
    "    print(item.residue_name)"
   ]
  },
  {
   "cell_type": "code",
   "execution_count": 29,
   "metadata": {},
   "outputs": [],
   "source": [
    "def gass_ppi(residue_list, interface_template):\n",
    "    return 0"
   ]
  },
  {
   "cell_type": "code",
   "execution_count": 30,
   "metadata": {},
   "outputs": [],
   "source": [
    "def evaluate(predicted_interface, actual_interface):\n",
    "    precision = 0.5\n",
    "    recall = 0.6\n",
    "    auc_roc_score = 0.7\n",
    "    auc_pr_score = 0.8\n",
    "    return (precision, recall, auc_roc_score, auc_pr_score)"
   ]
  },
  {
   "cell_type": "markdown",
   "metadata": {},
   "source": [
    "## Section 1: Proof-of-Concept"
   ]
  },
  {
   "cell_type": "code",
   "execution_count": 32,
   "metadata": {},
   "outputs": [
    {
     "name": "stderr",
     "output_type": "stream",
     "text": [
      "/opt/anaconda3/envs/thesis/lib/python3.8/site-packages/Bio/PDB/PDBParser.py:395: PDBConstructionWarning: Ignoring unrecognized record 'END' at line 3305\n",
      "  warnings.warn(\n",
      "/opt/anaconda3/envs/thesis/lib/python3.8/site-packages/Bio/PDB/PDBParser.py:395: PDBConstructionWarning: Ignoring unrecognized record 'END' at line 1623\n",
      "  warnings.warn(\n"
     ]
    },
    {
     "name": "stdout",
     "output_type": "stream",
     "text": [
      "Precision:  0.5\n",
      "Recall:  0.6\n",
      "AUC-ROC Score:  0.7\n",
      "AUC-PR Score:  0.8\n"
     ]
    }
   ],
   "source": [
    "# Query Protein\n",
    "input_pdb_id = \"1AHW_r_u\"\n",
    "input_pdb_structure = load_pdb(input_pdb_id, dbd5_path, pdb_parser, lha_dict, \"lha\")\n",
    "# Remove the first element in this case, since it's the input_pdb_id\n",
    "dataset_list = dbd5_aa_r_list[1:]\n",
    "\n",
    "# Step 1: Find the structural neighbour of the query protein using TMAlign\n",
    "tmscore_list = list(map(lambda x: tmalign_structural_alignment(input_pdb_id, x, dbd5_path), dataset_list))\n",
    "maximum_index = np.argmax(tmscore_list)\n",
    "neighbour_pdb_id = dataset_list[maximum_index]\n",
    "\n",
    "# Step 2: Find the interface of the structural neighbour, then use it as the interface template\n",
    "neighbour_pair_pdb_id = neighbour_pdb_id[:5] + \"l\" + neighbour_pdb_id[6:]\n",
    "\n",
    "neighbour_pdb_structure = load_pdb(neighbour_pdb_id, dbd5_path, pdb_parser, lha_dict, \"lha\")\n",
    "neighbour_pair_pdb_structure = load_pdb(neighbour_pair_pdb_id, dbd5_path, pdb_parser, lha_dict, \"lha\")\n",
    "\n",
    "interface_template = get_actual_interface(neighbour_pdb_structure, neighbour_pair_pdb_structure)\n",
    "\n",
    "# Step 3: GASS-PPI\n",
    "predicted_interface = gass_ppi(input_pdb_structure, interface_template)\n",
    "\n",
    "# Step 4: Evaluation\n",
    "input_pair_pdb_id = input_pdb_id[:5] + \"l\" + input_pdb_id[6:]\n",
    "input_pair_pdb_structure = load_pdb(input_pair_pdb_id, dbd5_path, pdb_parser, lha_dict, \"lha\")\n",
    "actual_interface = get_actual_interface(input_pdb_structure, input_pair_pdb_structure)\n",
    "\n",
    "precision, recall, auc_roc_score, auc_pr_score = evaluate(predicted_interface, actual_interface)\n",
    "print(\"Precision: \", precision)\n",
    "print(\"Recall: \", recall)\n",
    "print(\"AUC-ROC Score: \", auc_roc_score)\n",
    "print(\"AUC-PR Score: \", auc_pr_score)"
   ]
  },
  {
   "cell_type": "code",
   "execution_count": null,
   "metadata": {},
   "outputs": [],
   "source": []
  }
 ],
 "metadata": {
  "kernelspec": {
   "display_name": "Python 3",
   "language": "python",
   "name": "python3"
  },
  "language_info": {
   "codemirror_mode": {
    "name": "ipython",
    "version": 3
   },
   "file_extension": ".py",
   "mimetype": "text/x-python",
   "name": "python",
   "nbconvert_exporter": "python",
   "pygments_lexer": "ipython3",
   "version": "3.8.11"
  }
 },
 "nbformat": 4,
 "nbformat_minor": 4
}
