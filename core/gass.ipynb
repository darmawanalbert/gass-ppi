{
 "cells": [
  {
   "cell_type": "code",
   "execution_count": 1,
   "metadata": {},
   "outputs": [
    {
     "data": {
      "application/vnd.jupyter.widget-view+json": {
       "model_id": "dcee7879141847e690833893ba871613",
       "version_major": 2,
       "version_minor": 0
      },
      "text/plain": []
     },
     "metadata": {},
     "output_type": "display_data"
    }
   ],
   "source": [
    "import nglview\n",
    "from Bio.PDB import *"
   ]
  },
  {
   "cell_type": "code",
   "execution_count": 2,
   "metadata": {},
   "outputs": [
    {
     "name": "stderr",
     "output_type": "stream",
     "text": [
      "/opt/anaconda3/envs/thesis/lib/python3.8/site-packages/Bio/PDB/StructureBuilder.py:89: PDBConstructionWarning: WARNING: Chain A is discontinuous at line 7050.\n",
      "  warnings.warn(\n",
      "/opt/anaconda3/envs/thesis/lib/python3.8/site-packages/Bio/PDB/StructureBuilder.py:89: PDBConstructionWarning: WARNING: Chain B is discontinuous at line 7124.\n",
      "  warnings.warn(\n",
      "/opt/anaconda3/envs/thesis/lib/python3.8/site-packages/Bio/PDB/StructureBuilder.py:89: PDBConstructionWarning: WARNING: Chain A is discontinuous at line 7197.\n",
      "  warnings.warn(\n",
      "/opt/anaconda3/envs/thesis/lib/python3.8/site-packages/Bio/PDB/StructureBuilder.py:89: PDBConstructionWarning: WARNING: Chain B is discontinuous at line 7450.\n",
      "  warnings.warn(\n"
     ]
    },
    {
     "data": {
      "application/vnd.jupyter.widget-view+json": {
       "model_id": "f91460d0636d4210a6240b73b2e1834a",
       "version_major": 2,
       "version_minor": 0
      },
      "text/plain": [
       "NGLWidget()"
      ]
     },
     "metadata": {},
     "output_type": "display_data"
    }
   ],
   "source": [
    "parser = PDBParser()\n",
    "structure = parser.get_structure(\"3nos\", \"3nos.pdb\")\n",
    "\n",
    "view = nglview.show_biopython(structure)\n",
    "# view = nglview.show_pdbid(\"3nos\")\n",
    "view"
   ]
  },
  {
   "cell_type": "code",
   "execution_count": 47,
   "metadata": {},
   "outputs": [
    {
     "name": "stdout",
     "output_type": "stream",
     "text": [
      "7042\n"
     ]
    }
   ],
   "source": [
    "acc = 0\n",
    "for model in structure:\n",
    "    for chain in model:\n",
    "        for residue in chain:\n",
    "            for atom in residue:\n",
    "                acc += 1\n",
    "\n",
    "print(acc)"
   ]
  },
  {
   "cell_type": "code",
   "execution_count": 6,
   "metadata": {},
   "outputs": [],
   "source": [
    "# Residue is represented as a Last Heavy Atom (LHA)\n",
    "# Residue is a \"gene\" in genetic algorithms\n",
    "# Individual is a list of residue\n",
    "# 2 residue info, 1 chain info, 2 atom (lha) info\n",
    "class Residue:\n",
    "    def __init__(self, residue_name, residue_sequence_position, chain_name, lha_name, lha_coordinates):\n",
    "        self.residue_name = residue_name\n",
    "        self.residue_sequence_position = residue_sequence_position\n",
    "        self.chain_name = chain_name\n",
    "        self.lha_name = lha_name\n",
    "        self.lha_coordinates = lha_coordinates"
   ]
  },
  {
   "cell_type": "code",
   "execution_count": 43,
   "metadata": {},
   "outputs": [],
   "source": [
    "atom_list = []\n",
    "for atom in structure.get_atoms():\n",
    "    current_residue_name = atom.get_parent().get_resname()\n",
    "    current_residue_sequence_position = atom.get_parent().get_full_id()[3][1]\n",
    "    current_chain_name = atom.get_parent().get_parent().id\n",
    "    current_lha_name = atom.get_name()\n",
    "    current_lha_coordinates = atom.get_coord()\n",
    "    current_atom = Residue(current_residue_name,\n",
    "                        current_residue_sequence_position,\n",
    "                        current_chain_name,\n",
    "                        current_lha_name,\n",
    "                        current_lha_coordinates\n",
    "                       )\n",
    "    atom_list.append(current_atom)"
   ]
  },
  {
   "cell_type": "code",
   "execution_count": 46,
   "metadata": {},
   "outputs": [
    {
     "name": "stdout",
     "output_type": "stream",
     "text": [
      "[17.125  8.914 23.94 ]\n"
     ]
    }
   ],
   "source": [
    "# Complete search\n",
    "# Sample template: CYS,94,A;CYS,99,A;CYS,94,B;CYS,99,B (residue_name, residue_sequence_position, chain_name)\n",
    "for atom in atom_list:\n",
    "    if atom.residue_name == 'CYS' and atom.residue_sequence_position == 184 and atom.lha_name == \"SG\" and atom.chain_name == 'A':\n",
    "        print(atom.lha_coordinates)"
   ]
  },
  {
   "cell_type": "code",
   "execution_count": null,
   "metadata": {},
   "outputs": [],
   "source": []
  }
 ],
 "metadata": {
  "kernelspec": {
   "display_name": "Python 3",
   "language": "python",
   "name": "python3"
  },
  "language_info": {
   "codemirror_mode": {
    "name": "ipython",
    "version": 3
   },
   "file_extension": ".py",
   "mimetype": "text/x-python",
   "name": "python",
   "nbconvert_exporter": "python",
   "pygments_lexer": "ipython3",
   "version": "3.8.11"
  }
 },
 "nbformat": 4,
 "nbformat_minor": 4
}
